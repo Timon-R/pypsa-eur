{
 "cells": [
  {
   "cell_type": "markdown",
   "metadata": {},
   "source": [
    "# Test plotting notebook"
   ]
  },
  {
   "cell_type": "code",
   "execution_count": null,
   "metadata": {},
   "outputs": [],
   "source": [
    "import pypsa\n",
    "import numpy as np\n",
    "import pandas as pd\n",
    "import matplotlib.pyplot as plt\n",
    "import os\n",
    "import seaborn as sns\n"
   ]
  },
  {
   "cell_type": "code",
   "execution_count": null,
   "metadata": {},
   "outputs": [],
   "source": [
    "n = pypsa.Network('results/postnetworks/elec_s_37_lvopt___2050.nc')\n",
    "folder_path = 'results/csvs'\n",
    "# Get a list of all CSV files in the folder\n",
    "csv_files = [f for f in os.listdir(folder_path) if f.endswith('.csv')]\n",
    "# Initialize an empty dictionary to store dataframes\n",
    "dataframes = {}\n",
    "# Loop through the CSV files and load each into a dataframe\n",
    "for file in csv_files:\n",
    "    file_path = os.path.join(folder_path, file)\n",
    "    df = pd.read_csv(file_path)\n",
    "    # Use the filename without extension as the key\n",
    "    key = os.path.splitext(file)[0]\n",
    "    dataframes[key] = df\n",
    "for key, df in dataframes.items():\n",
    "    # Drop the first 4 rows from the dataframe\n",
    "    updated_df = df.drop(df.index[0:4])\n",
    "    # Update the dataframe in the dictionary\n",
    "    dataframes[key] = updated_df"
   ]
  },
  {
   "cell_type": "code",
   "execution_count": null,
   "metadata": {},
   "outputs": [],
   "source": [
    "buses = n.buses\n",
    "buses"
   ]
  },
  {
   "cell_type": "code",
   "execution_count": null,
   "metadata": {},
   "outputs": [],
   "source": [
    "# display the time series of the load of the buses\n",
    "n.buses_t"
   ]
  },
  {
   "cell_type": "code",
   "execution_count": null,
   "metadata": {},
   "outputs": [],
   "source": [
    "lines = n.lines\n",
    "lines"
   ]
  },
  {
   "cell_type": "code",
   "execution_count": null,
   "metadata": {},
   "outputs": [],
   "source": [
    "loads = n.loads\n",
    "loads"
   ]
  },
  {
   "cell_type": "code",
   "execution_count": null,
   "metadata": {},
   "outputs": [],
   "source": [
    "biomass_generators = n.generators[n.generators.carrier.str.contains('biomass',case=False,na=False)].index\n",
    "biomass_generators\n",
    "#there are none"
   ]
  },
  {
   "cell_type": "code",
   "execution_count": null,
   "metadata": {},
   "outputs": [],
   "source": [
    "biomass_stores = n.stores[n.stores.carrier.str.contains('biomass',case=False,na=False)]\n",
    "biomass_stores"
   ]
  },
  {
   "cell_type": "code",
   "execution_count": null,
   "metadata": {},
   "outputs": [],
   "source": [
    "stores = n.stores\n",
    "stores"
   ]
  },
  {
   "cell_type": "code",
   "execution_count": null,
   "metadata": {},
   "outputs": [],
   "source": [
    "storage_units = n.storage_units\n",
    "storage_units"
   ]
  },
  {
   "cell_type": "code",
   "execution_count": null,
   "metadata": {},
   "outputs": [],
   "source": [
    "biomass_storage_units = n.storage_units[n.storage_units.carrier.str.contains('biomass',case=False,na=False)]\n",
    "biomass_storage_units"
   ]
  },
  {
   "cell_type": "code",
   "execution_count": null,
   "metadata": {},
   "outputs": [],
   "source": [
    "links = n.links\n",
    "links"
   ]
  },
  {
   "cell_type": "code",
   "execution_count": null,
   "metadata": {},
   "outputs": [],
   "source": [
    "biomass_links = n.links[n.links.carrier.str.contains('biomass',case=False,na=False)]\n",
    "biogas_links = n.links[n.links.carrier.str.contains('biogas',case=False,na=False)]\n",
    "biogas_links"
   ]
  },
  {
   "cell_type": "code",
   "execution_count": null,
   "metadata": {},
   "outputs": [],
   "source": [
    "loads = n.loads\n",
    "loads"
   ]
  },
  {
   "cell_type": "code",
   "execution_count": null,
   "metadata": {},
   "outputs": [],
   "source": [
    "biomass_loads = n.loads[n.loads.carrier.str.contains('biomass',case=False,na=False)]\n",
    "biomass_loads"
   ]
  },
  {
   "cell_type": "code",
   "execution_count": null,
   "metadata": {},
   "outputs": [],
   "source": [
    "biogas_loads = n.loads[n.loads.carrier.str.contains('biogas',case=False,na=False)]\n",
    "biogas_loads"
   ]
  },
  {
   "cell_type": "code",
   "execution_count": null,
   "metadata": {},
   "outputs": [],
   "source": [
    "\n",
    "# Assuming 'biomass' DataFrame exists and you want to set or update its headers\n",
    "bioenergy_supply = dataframes['supply_energy']\n",
    "bioenergy_supply = bioenergy_supply[bioenergy_supply.iloc[:, 2].str.contains(\"biomass|biogas\", na=False)].reset_index(drop=True)\n",
    "biomass = bioenergy_supply[bioenergy_supply.iloc[:, 0] == 'solid biomass'].reset_index(drop=True)\n",
    "biomass.columns = ['Carrier', 'Category', 'Name', 'Value']\n",
    "\n",
    "#make to float and divide value by 1 000 000 to get TWh\n",
    "biomass['Value'] = biomass['Value'].astype(float) / 1000000\n",
    "\n",
    "# Now, when you filter 'biomass' into 'stores' and 'links', they will inherit these column names\n",
    "stores = biomass[biomass['Category'] == 'stores']\n",
    "links = biomass[biomass['Category'] == 'links'].copy()  # Use .copy() to avoid SettingWithCopyWarning\n",
    "\n",
    "total_available_energy = stores['Value'].sum()\n",
    "total_used_energy = links['Value'].sum()\n",
    "print(f'Total available energy: {total_available_energy:.2f} TWh')\n",
    "print(f'Total used energy: {-1* total_used_energy:.2f} TWh')\n",
    "\n",
    "# Ensure 'Value' is numeric for aggregation, using .loc to avoid SettingWithCopyWarning\n",
    "links.loc[:, 'Value'] = pd.to_numeric(links['Value'], errors='coerce')\n",
    "\n",
    "# Create a bar plot with 'Name' as the x-axis and 'Value' for the y-axis\n",
    "plt.figure(figsize=(10, 6))\n",
    "barplot = sns.barplot(x='Name', y='Value', data=links, errorbar=None)  # Use errorbar=None instead of ci=None\n",
    "\n",
    "plt.xlabel('Technology')  # Label for the x-axis\n",
    "plt.ylabel('Energy consumption in TWh')  # Label for the y-axis\n",
    "plt.xticks(rotation=90)  # Rotate x-axis labels for better readability\n",
    "# Adding the text on the bars\n",
    "for p in barplot.patches:\n",
    "    barplot.annotate(format(p.get_height(), '.2f'), \n",
    "                     (p.get_x() + p.get_width() / 2., p.get_height()), \n",
    "                     ha = 'center', va = 'center', \n",
    "                     xytext = (0, 9), \n",
    "                     textcoords = 'offset points')\n",
    "\n",
    "plt.tight_layout()  # Adjust layout to make room for the plot"
   ]
  }
 ],
 "metadata": {
  "kernelspec": {
   "display_name": "pypsa-eur",
   "language": "python",
   "name": "python3"
  },
  "language_info": {
   "codemirror_mode": {
    "name": "ipython",
    "version": 3
   },
   "file_extension": ".py",
   "mimetype": "text/x-python",
   "name": "python",
   "nbconvert_exporter": "python",
   "pygments_lexer": "ipython3",
   "version": "3.11.9"
  }
 },
 "nbformat": 4,
 "nbformat_minor": 2
}
